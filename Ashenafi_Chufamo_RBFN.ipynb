{
  "nbformat": 4,
  "nbformat_minor": 0,
  "metadata": {
    "colab": {
      "provenance": []
    },
    "kernelspec": {
      "name": "python3",
      "display_name": "Python 3"
    },
    "language_info": {
      "name": "python"
    }
  },
  "cells": [
    {
      "cell_type": "code",
      "execution_count": 1,
      "metadata": {
        "id": "P3kc1Cjq9Ipq"
      },
      "outputs": [],
      "source": [
        "import numpy as np\n",
        "\n",
        "def k_means(X, K, max_iterations=100):\n",
        "    # Initialize centroids randomly\n",
        "    centroids = X[np.random.choice(range(len(X)), size=K, replace=False)]\n",
        "\n",
        "    for _ in range(max_iterations):\n",
        "        # Assign each data point to the nearest centroid\n",
        "        labels = np.argmin(np.linalg.norm(X[:, np.newaxis] - centroids, axis=-1), axis=-1)\n",
        "\n",
        "        # Update the centroids based on the mean of the assigned points\n",
        "        new_centroids = np.array([X[labels == k].mean(axis=0) for k in range(K)])\n",
        "\n",
        "        # Check if the centroids have converged\n",
        "        if np.all(centroids == new_centroids):\n",
        "            break\n",
        "\n",
        "        centroids = new_centroids\n",
        "\n",
        "    return centroids, labels"
      ]
    },
    {
      "cell_type": "code",
      "source": [
        "def lms(X, y, learning_rate=0.01, max_iterations=100):\n",
        "    # Add a bias term to the input data\n",
        "    X = np.column_stack((np.ones(len(X)), X))\n",
        "\n",
        "    # Initialize weights randomly\n",
        "    weights = np.random.randn(X.shape[1])\n",
        "\n",
        "    for _ in range(max_iterations):\n",
        "        # Make predictions\n",
        "        predictions = np.dot(X, weights)\n",
        "\n",
        "        # Calculate the error\n",
        "        error = y - predictions\n",
        "\n",
        "        # Update the weights\n",
        "        weights += learning_rate * np.dot(X.T, error)\n",
        "\n",
        "    return weights"
      ],
      "metadata": {
        "id": "PaLSSiTg9qbt"
      },
      "execution_count": 2,
      "outputs": []
    },
    {
      "cell_type": "code",
      "source": [
        "from sklearn.cluster import KMeans\n",
        "from sklearn.linear_model import LinearRegression\n",
        "from sklearn.metrics import silhouette_score, mean_squared_error\n",
        "\n",
        "# Function approximation problem\n",
        "X = np.linspace(0, 10, 100).reshape(-1, 1)\n",
        "y = np.sin(X)\n",
        "\n",
        "# Using the custom K-means algorithm\n",
        "custom_centroids, custom_labels = k_means(X, K=3)\n",
        "# Using the built-in K-means algorithm\n",
        "sklearn_kmeans = KMeans(n_clusters=3)\n",
        "sklearn_labels = sklearn_kmeans.fit_predict(X)\n",
        "\n",
        "# Using the custom LMS algorithm\n",
        "custom_weights = lms(X, y.flatten())\n",
        "# Using the built-in Linear Regression algorithm\n",
        "sklearn_regression = LinearRegression()\n",
        "sklearn_regression.fit(X, y)\n",
        "\n",
        "# Compare the results\n",
        "print(\"Custom K-means centroids:\\n\", custom_centroids)\n",
        "print(\"#  These are the centroids obtained from the my custom K-means algorithm.\\nEach row represents a centroid, and the number of columns depends on the dimensionality of the data.\")\n",
        "\n",
        "print(\"Scikit-learn K-means centroids:\\n\", sklearn_kmeans.cluster_centers_)\n",
        "print(\"#  These are the centroids obtained from the scikit-learn K-means algorithm.\")\n",
        "\n",
        "print(\"Custom LMS weights:\\n\", custom_weights)\n",
        "print(\"#  These are the weights obtained from the my LMS (Least Mean Squares) algorithm.\\nThe custom_weights variable contains the learned weights for the linear regression problem.\")\n",
        "\n",
        "print(\"Scikit-learn Linear Regression weights:\\n\", sklearn_regression.coef_)\n",
        "print(\"#  These are the weights obtained from the scikit-learn Linear Regression algorithm.\")"
      ],
      "metadata": {
        "colab": {
          "base_uri": "https://localhost:8080/"
        },
        "id": "nGizvgW89qfo",
        "outputId": "d286a618-83d7-4b2a-f3fc-9c83e064705f"
      },
      "execution_count": 8,
      "outputs": [
        {
          "output_type": "stream",
          "name": "stdout",
          "text": [
            "Custom K-means centroids:\n",
            " [[4.84848485]\n",
            " [1.56565657]\n",
            " [8.28282828]]\n",
            "#  These are the centroids obtained from the my custom K-means algorithm.\n",
            "Each row represents a centroid, and the number of columns depends on the dimensionality of the data.\n",
            "Scikit-learn K-means centroids:\n",
            " [[8.38383838]\n",
            " [1.66666667]\n",
            " [5.05050505]]\n",
            "#  These are the centroids obtained from the scikit-learn K-means algorithm.\n",
            "Custom LMS weights:\n",
            " [2.79546184e+151 1.85917693e+152]\n",
            "#  These are the weights obtained from the my LMS (Least Mean Squares) algorithm.\n",
            "The custom_weights variable contains the learned weights for the linear regression problem.\n",
            "Scikit-learn Linear Regression weights:\n",
            " [[-0.01730202]]\n",
            "#  These are the weights obtained from the scikit-learn Linear Regression algorithm.\n"
          ]
        },
        {
          "output_type": "stream",
          "name": "stderr",
          "text": [
            "/usr/local/lib/python3.10/dist-packages/sklearn/cluster/_kmeans.py:870: FutureWarning: The default value of `n_init` will change from 10 to 'auto' in 1.4. Set the value of `n_init` explicitly to suppress the warning\n",
            "  warnings.warn(\n"
          ]
        }
      ]
    },
    {
      "cell_type": "code",
      "source": [
        "from sklearn.datasets import make_classification\n",
        "from sklearn.linear_model import LogisticRegression\n",
        "from sklearn.metrics import accuracy_score\n",
        "\n",
        "# Classification problem\n",
        "X, y = make_classification(n_samples=100, n_features=2, n_informative=2, n_redundant=0, random_state=42)\n",
        "\n",
        "# Using the custom K-means algorithm\n",
        "custom_centroids, custom_labels = k_means(X, K=2)\n",
        "# Using the built-in K-means algorithm\n",
        "sklearn_kmeans = KMeans(n_clusters=2)\n",
        "sklearn_labels = sklearn_kmeans.fit_predict(X)\n",
        "\n",
        "# Using the custom LMS algorithm\n",
        "custom_weights = lms(X, y, learning_rate=0.01, max_iterations=100)\n",
        "# Using the built-in Logistic Regression algorithm\n",
        "sklearn_classification = LogisticRegression()\n",
        "sklearn_classification.fit(X, y)\n",
        "\n",
        "# Make predictions\n",
        "custom_predictions = np.argmax(np.dot(np.column_stack((np.ones(len(X)), X)), custom_weights))\n",
        "sklearn_predictions = sklearn_classification.predict(X)\n",
        "\n",
        "# Compare the results\n",
        "print(\"My K-means centroids:\\n\", custom_centroids)\n",
        "print(\"#  These are the centroids obtained from the custom K-means algorithm.\")\n",
        "\n",
        "print(\"Scikit-learn K-means centroids:\\n\", sklearn_kmeans.cluster_centers_)\n",
        "print(\"#  These are the centroids obtained from the scikit-learn K-means algorithm.\")\n",
        "\n",
        "print(\"Custom LMS weights:\\n\", custom_weights)\n",
        "print(\"#  These are the weights obtained from the my LMS (Least Mean Squares) algorithm.\")\n",
        "\n",
        "print(\"Scikit-learn Logistic Regression weights:\\n\", sklearn_classification.coef_)\n",
        "print(\"#  These are the weights obtained from the scikit-learn Logistic Regression algorithm.\")\n",
        "\n",
        "print(\"Custom K-means accuracy:\", accuracy_score(y, custom_labels))\n",
        "print(\"#  This is the accuracy of the my K-means algorithm achieved by comparing the predicted labels with the true labels.\")\n",
        "\n",
        "print(\"Scikit-learn K-means accuracy:\", accuracy_score(y, sklearn_labels))\n",
        "print(\"#  This is the accuracy of the scikit-learn K-means algorithm achieved by comparing the predicted labels with the true labels.\")\n",
        "\n",
        "print(\"Custom LMS accuracy:\", accuracy_score(y, custom_labels))\n",
        "print(\"#  This is the accuracy of the my LMS algorithm achieved by comparing the predicted labels with the true labels.\")\n",
        "\n",
        "print(\"Scikit-learn Logistic Regression accuracy:\", accuracy_score(y, sklearn_predictions))\n",
        "print(\"#  This is the accuracy of the scikit-learn Logistic Regression algorithm achieved by comparing the predicted labels with the true labels.\")"
      ],
      "metadata": {
        "colab": {
          "base_uri": "https://localhost:8080/"
        },
        "id": "RRm39eUP9qkC",
        "outputId": "b7d63e9b-973c-4e2b-e487-749b7688098c"
      },
      "execution_count": 9,
      "outputs": [
        {
          "output_type": "stream",
          "name": "stdout",
          "text": [
            "My K-means centroids:\n",
            " [[-1.29452448 -0.78043004]\n",
            " [ 0.88963137  0.48091756]]\n",
            "#  These are the centroids obtained from the custom K-means algorithm.\n",
            "Scikit-learn K-means centroids:\n",
            " [[-1.34447921 -0.94487184]\n",
            " [ 0.77933551  0.50032721]]\n",
            "#  These are the centroids obtained from the scikit-learn K-means algorithm.\n",
            "Custom LMS weights:\n",
            " [-9.22461999e+06  1.65535993e+08  1.35646339e+08]\n",
            "#  These are the weights obtained from the my LMS (Least Mean Squares) algorithm.\n",
            "Scikit-learn Logistic Regression weights:\n",
            " [[ 3.23218612 -0.84604963]]\n",
            "#  These are the weights obtained from the scikit-learn Logistic Regression algorithm.\n",
            "Custom K-means accuracy: 0.84\n",
            "#  This is the accuracy of the my K-means algorithm achieved by comparing the predicted labels with the true labels.\n",
            "Scikit-learn K-means accuracy: 0.8\n",
            "#  This is the accuracy of the scikit-learn K-means algorithm achieved by comparing the predicted labels with the true labels.\n",
            "Custom LMS accuracy: 0.84\n",
            "#  This is the accuracy of the my LMS algorithm achieved by comparing the predicted labels with the true labels.\n",
            "Scikit-learn Logistic Regression accuracy: 0.99\n",
            "#  This is the accuracy of the scikit-learn Logistic Regression algorithm achieved by comparing the predicted labels with the true labels.\n"
          ]
        },
        {
          "output_type": "stream",
          "name": "stderr",
          "text": [
            "/usr/local/lib/python3.10/dist-packages/sklearn/cluster/_kmeans.py:870: FutureWarning: The default value of `n_init` will change from 10 to 'auto' in 1.4. Set the value of `n_init` explicitly to suppress the warning\n",
            "  warnings.warn(\n"
          ]
        }
      ]
    }
  ]
}